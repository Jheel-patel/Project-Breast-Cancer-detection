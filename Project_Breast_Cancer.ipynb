{
  "nbformat": 4,
  "nbformat_minor": 0,
  "metadata": {
    "colab": {
      "name": "Project Breast Cancer.ipynb",
      "provenance": [],
      "include_colab_link": true
    },
    "kernelspec": {
      "name": "python3",
      "display_name": "Python 3"
    },
    "accelerator": "TPU"
  },
  "cells": [
    {
      "cell_type": "markdown",
      "metadata": {
        "id": "view-in-github",
        "colab_type": "text"
      },
      "source": [
        "<a href=\"https://colab.research.google.com/github/Jheel-patel/Project-Breast-Cancer-detection/blob/master/Project_Breast_Cancer.ipynb\" target=\"_parent\"><img src=\"https://colab.research.google.com/assets/colab-badge.svg\" alt=\"Open In Colab\"/></a>"
      ]
    },
    {
      "cell_type": "markdown",
      "metadata": {
        "id": "es3MfQ1mq1dC",
        "colab_type": "text"
      },
      "source": [
        "#####Import Libraries"
      ]
    },
    {
      "cell_type": "code",
      "metadata": {
        "id": "PFk2jtj7y7Bw",
        "colab_type": "code",
        "colab": {
          "base_uri": "https://localhost:8080/",
          "height": 68
        },
        "outputId": "e2734507-e94e-4219-d7bb-c920e3b89dd2"
      },
      "source": [
        "import numpy as np\n",
        "import pandas as pd\n",
        "import matplotlib.pyplot as plt\n",
        "import seaborn as sns\n",
        "\n",
        "print(sns.__version__)\n",
        "print(pd.__version__)\n",
        "print(np.__version__)"
      ],
      "execution_count": 1,
      "outputs": [
        {
          "output_type": "stream",
          "text": [
            "0.9.0\n",
            "0.25.3\n",
            "1.17.4\n"
          ],
          "name": "stdout"
        }
      ]
    },
    {
      "cell_type": "markdown",
      "metadata": {
        "id": "VJ5jZKO0wDHz",
        "colab_type": "text"
      },
      "source": [
        "#####Import Dataset"
      ]
    },
    {
      "cell_type": "code",
      "metadata": {
        "id": "OprG1zncz83F",
        "colab_type": "code",
        "outputId": "e3675c74-1dfa-4871-df2c-a8f04b748152",
        "colab": {
          "base_uri": "https://localhost:8080/",
          "height": 204
        }
      },
      "source": [
        "col = ['id', 'Clump Thickness', 'Uniformity of Cell Size', \n",
        "       'Uniformity of Cell Shape', 'Marginal Adhesion', \n",
        "       'Single Epithelial Cell Size', 'Bare Nuclei', 'Bland Chromatin',\n",
        "       'Normal Nucleoli', 'Mitoses', 'Class']\n",
        "!wget https://archive.ics.uci.edu/ml/machine-learning-databases/breast-cancer-wisconsin/breast-cancer-wisconsin.data\n",
        "breast_cancer = pd.read_csv('breast-cancer-wisconsin.data',names=col,header=None)\n"
      ],
      "execution_count": 2,
      "outputs": [
        {
          "output_type": "stream",
          "text": [
            "--2019-12-20 19:44:27--  https://archive.ics.uci.edu/ml/machine-learning-databases/breast-cancer-wisconsin/breast-cancer-wisconsin.data\n",
            "Resolving archive.ics.uci.edu (archive.ics.uci.edu)... 128.195.10.252\n",
            "Connecting to archive.ics.uci.edu (archive.ics.uci.edu)|128.195.10.252|:443... connected.\n",
            "HTTP request sent, awaiting response... 200 OK\n",
            "Length: 19889 (19K) [application/x-httpd-php]\n",
            "Saving to: ‘breast-cancer-wisconsin.data’\n",
            "\n",
            "\r          breast-ca   0%[                    ]       0  --.-KB/s               \rbreast-cancer-wisco 100%[===================>]  19.42K  --.-KB/s    in 0.04s   \n",
            "\n",
            "2019-12-20 19:44:28 (467 KB/s) - ‘breast-cancer-wisconsin.data’ saved [19889/19889]\n",
            "\n"
          ],
          "name": "stdout"
        }
      ]
    },
    {
      "cell_type": "code",
      "metadata": {
        "id": "jMclzicVEZCt",
        "colab_type": "code",
        "outputId": "7f9ed520-625b-4d4d-b978-72b3b6074b54",
        "colab": {
          "base_uri": "https://localhost:8080/",
          "height": 436
        }
      },
      "source": [
        "breast_cancer"
      ],
      "execution_count": 3,
      "outputs": [
        {
          "output_type": "execute_result",
          "data": {
            "text/html": [
              "<div>\n",
              "<style scoped>\n",
              "    .dataframe tbody tr th:only-of-type {\n",
              "        vertical-align: middle;\n",
              "    }\n",
              "\n",
              "    .dataframe tbody tr th {\n",
              "        vertical-align: top;\n",
              "    }\n",
              "\n",
              "    .dataframe thead th {\n",
              "        text-align: right;\n",
              "    }\n",
              "</style>\n",
              "<table border=\"1\" class=\"dataframe\">\n",
              "  <thead>\n",
              "    <tr style=\"text-align: right;\">\n",
              "      <th></th>\n",
              "      <th>id</th>\n",
              "      <th>Clump Thickness</th>\n",
              "      <th>Uniformity of Cell Size</th>\n",
              "      <th>Uniformity of Cell Shape</th>\n",
              "      <th>Marginal Adhesion</th>\n",
              "      <th>Single Epithelial Cell Size</th>\n",
              "      <th>Bare Nuclei</th>\n",
              "      <th>Bland Chromatin</th>\n",
              "      <th>Normal Nucleoli</th>\n",
              "      <th>Mitoses</th>\n",
              "      <th>Class</th>\n",
              "    </tr>\n",
              "  </thead>\n",
              "  <tbody>\n",
              "    <tr>\n",
              "      <th>0</th>\n",
              "      <td>1000025</td>\n",
              "      <td>5</td>\n",
              "      <td>1</td>\n",
              "      <td>1</td>\n",
              "      <td>1</td>\n",
              "      <td>2</td>\n",
              "      <td>1</td>\n",
              "      <td>3</td>\n",
              "      <td>1</td>\n",
              "      <td>1</td>\n",
              "      <td>2</td>\n",
              "    </tr>\n",
              "    <tr>\n",
              "      <th>1</th>\n",
              "      <td>1002945</td>\n",
              "      <td>5</td>\n",
              "      <td>4</td>\n",
              "      <td>4</td>\n",
              "      <td>5</td>\n",
              "      <td>7</td>\n",
              "      <td>10</td>\n",
              "      <td>3</td>\n",
              "      <td>2</td>\n",
              "      <td>1</td>\n",
              "      <td>2</td>\n",
              "    </tr>\n",
              "    <tr>\n",
              "      <th>2</th>\n",
              "      <td>1015425</td>\n",
              "      <td>3</td>\n",
              "      <td>1</td>\n",
              "      <td>1</td>\n",
              "      <td>1</td>\n",
              "      <td>2</td>\n",
              "      <td>2</td>\n",
              "      <td>3</td>\n",
              "      <td>1</td>\n",
              "      <td>1</td>\n",
              "      <td>2</td>\n",
              "    </tr>\n",
              "    <tr>\n",
              "      <th>3</th>\n",
              "      <td>1016277</td>\n",
              "      <td>6</td>\n",
              "      <td>8</td>\n",
              "      <td>8</td>\n",
              "      <td>1</td>\n",
              "      <td>3</td>\n",
              "      <td>4</td>\n",
              "      <td>3</td>\n",
              "      <td>7</td>\n",
              "      <td>1</td>\n",
              "      <td>2</td>\n",
              "    </tr>\n",
              "    <tr>\n",
              "      <th>4</th>\n",
              "      <td>1017023</td>\n",
              "      <td>4</td>\n",
              "      <td>1</td>\n",
              "      <td>1</td>\n",
              "      <td>3</td>\n",
              "      <td>2</td>\n",
              "      <td>1</td>\n",
              "      <td>3</td>\n",
              "      <td>1</td>\n",
              "      <td>1</td>\n",
              "      <td>2</td>\n",
              "    </tr>\n",
              "    <tr>\n",
              "      <th>...</th>\n",
              "      <td>...</td>\n",
              "      <td>...</td>\n",
              "      <td>...</td>\n",
              "      <td>...</td>\n",
              "      <td>...</td>\n",
              "      <td>...</td>\n",
              "      <td>...</td>\n",
              "      <td>...</td>\n",
              "      <td>...</td>\n",
              "      <td>...</td>\n",
              "      <td>...</td>\n",
              "    </tr>\n",
              "    <tr>\n",
              "      <th>694</th>\n",
              "      <td>776715</td>\n",
              "      <td>3</td>\n",
              "      <td>1</td>\n",
              "      <td>1</td>\n",
              "      <td>1</td>\n",
              "      <td>3</td>\n",
              "      <td>2</td>\n",
              "      <td>1</td>\n",
              "      <td>1</td>\n",
              "      <td>1</td>\n",
              "      <td>2</td>\n",
              "    </tr>\n",
              "    <tr>\n",
              "      <th>695</th>\n",
              "      <td>841769</td>\n",
              "      <td>2</td>\n",
              "      <td>1</td>\n",
              "      <td>1</td>\n",
              "      <td>1</td>\n",
              "      <td>2</td>\n",
              "      <td>1</td>\n",
              "      <td>1</td>\n",
              "      <td>1</td>\n",
              "      <td>1</td>\n",
              "      <td>2</td>\n",
              "    </tr>\n",
              "    <tr>\n",
              "      <th>696</th>\n",
              "      <td>888820</td>\n",
              "      <td>5</td>\n",
              "      <td>10</td>\n",
              "      <td>10</td>\n",
              "      <td>3</td>\n",
              "      <td>7</td>\n",
              "      <td>3</td>\n",
              "      <td>8</td>\n",
              "      <td>10</td>\n",
              "      <td>2</td>\n",
              "      <td>4</td>\n",
              "    </tr>\n",
              "    <tr>\n",
              "      <th>697</th>\n",
              "      <td>897471</td>\n",
              "      <td>4</td>\n",
              "      <td>8</td>\n",
              "      <td>6</td>\n",
              "      <td>4</td>\n",
              "      <td>3</td>\n",
              "      <td>4</td>\n",
              "      <td>10</td>\n",
              "      <td>6</td>\n",
              "      <td>1</td>\n",
              "      <td>4</td>\n",
              "    </tr>\n",
              "    <tr>\n",
              "      <th>698</th>\n",
              "      <td>897471</td>\n",
              "      <td>4</td>\n",
              "      <td>8</td>\n",
              "      <td>8</td>\n",
              "      <td>5</td>\n",
              "      <td>4</td>\n",
              "      <td>5</td>\n",
              "      <td>10</td>\n",
              "      <td>4</td>\n",
              "      <td>1</td>\n",
              "      <td>4</td>\n",
              "    </tr>\n",
              "  </tbody>\n",
              "</table>\n",
              "<p>699 rows × 11 columns</p>\n",
              "</div>"
            ],
            "text/plain": [
              "          id  Clump Thickness  ...  Mitoses  Class\n",
              "0    1000025                5  ...        1      2\n",
              "1    1002945                5  ...        1      2\n",
              "2    1015425                3  ...        1      2\n",
              "3    1016277                6  ...        1      2\n",
              "4    1017023                4  ...        1      2\n",
              "..       ...              ...  ...      ...    ...\n",
              "694   776715                3  ...        1      2\n",
              "695   841769                2  ...        1      2\n",
              "696   888820                5  ...        2      4\n",
              "697   897471                4  ...        1      4\n",
              "698   897471                4  ...        1      4\n",
              "\n",
              "[699 rows x 11 columns]"
            ]
          },
          "metadata": {
            "tags": []
          },
          "execution_count": 3
        }
      ]
    },
    {
      "cell_type": "markdown",
      "metadata": {
        "id": "0vTupt-2Fv9j",
        "colab_type": "text"
      },
      "source": [
        "#Data Preporcessing"
      ]
    },
    {
      "cell_type": "code",
      "metadata": {
        "id": "RRiTJQrv0M0u",
        "colab_type": "code",
        "outputId": "d559c625-014e-4818-f299-0aa9cf0d986a",
        "colab": {
          "base_uri": "https://localhost:8080/",
          "height": 221
        }
      },
      "source": [
        "breast_cancer.isnull().any()"
      ],
      "execution_count": 4,
      "outputs": [
        {
          "output_type": "execute_result",
          "data": {
            "text/plain": [
              "id                             False\n",
              "Clump Thickness                False\n",
              "Uniformity of Cell Size        False\n",
              "Uniformity of Cell Shape       False\n",
              "Marginal Adhesion              False\n",
              "Single Epithelial Cell Size    False\n",
              "Bare Nuclei                    False\n",
              "Bland Chromatin                False\n",
              "Normal Nucleoli                False\n",
              "Mitoses                        False\n",
              "Class                          False\n",
              "dtype: bool"
            ]
          },
          "metadata": {
            "tags": []
          },
          "execution_count": 4
        }
      ]
    },
    {
      "cell_type": "code",
      "metadata": {
        "id": "yC3itwyM0SUB",
        "colab_type": "code",
        "outputId": "a20fe95e-eebd-4f51-9efa-a2cf9618435f",
        "colab": {
          "base_uri": "https://localhost:8080/",
          "height": 289
        }
      },
      "source": [
        "breast_cancer.info()"
      ],
      "execution_count": 5,
      "outputs": [
        {
          "output_type": "stream",
          "text": [
            "<class 'pandas.core.frame.DataFrame'>\n",
            "RangeIndex: 699 entries, 0 to 698\n",
            "Data columns (total 11 columns):\n",
            "id                             699 non-null int64\n",
            "Clump Thickness                699 non-null int64\n",
            "Uniformity of Cell Size        699 non-null int64\n",
            "Uniformity of Cell Shape       699 non-null int64\n",
            "Marginal Adhesion              699 non-null int64\n",
            "Single Epithelial Cell Size    699 non-null int64\n",
            "Bare Nuclei                    699 non-null object\n",
            "Bland Chromatin                699 non-null int64\n",
            "Normal Nucleoli                699 non-null int64\n",
            "Mitoses                        699 non-null int64\n",
            "Class                          699 non-null int64\n",
            "dtypes: int64(10), object(1)\n",
            "memory usage: 60.2+ KB\n"
          ],
          "name": "stdout"
        }
      ]
    },
    {
      "cell_type": "code",
      "metadata": {
        "id": "Qt6WwBFs0sS-",
        "colab_type": "code",
        "outputId": "bb613151-6fcd-4c03-f4f2-c63da255f1d4",
        "colab": {
          "base_uri": "https://localhost:8080/",
          "height": 34
        }
      },
      "source": [
        "np.unique(breast_cancer[['Class']])"
      ],
      "execution_count": 6,
      "outputs": [
        {
          "output_type": "execute_result",
          "data": {
            "text/plain": [
              "array([2, 4])"
            ]
          },
          "metadata": {
            "tags": []
          },
          "execution_count": 6
        }
      ]
    },
    {
      "cell_type": "code",
      "metadata": {
        "id": "DSqkzELQIQE0",
        "colab_type": "code",
        "outputId": "c4ed0eba-f898-48e0-9c43-f59c076bbf75",
        "colab": {
          "base_uri": "https://localhost:8080/",
          "height": 34
        }
      },
      "source": [
        "np.unique(breast_cancer[['Mitoses']])"
      ],
      "execution_count": 7,
      "outputs": [
        {
          "output_type": "execute_result",
          "data": {
            "text/plain": [
              "array([ 1,  2,  3,  4,  5,  6,  7,  8, 10])"
            ]
          },
          "metadata": {
            "tags": []
          },
          "execution_count": 7
        }
      ]
    },
    {
      "cell_type": "code",
      "metadata": {
        "id": "pbOVcykt1HUw",
        "colab_type": "code",
        "outputId": "46611fb8-2068-4008-8c68-36eb059fa9df",
        "colab": {
          "base_uri": "https://localhost:8080/",
          "height": 102
        }
      },
      "source": [
        "breast_cancer['Bare Nuclei'].describe()"
      ],
      "execution_count": 8,
      "outputs": [
        {
          "output_type": "execute_result",
          "data": {
            "text/plain": [
              "count     699\n",
              "unique     11\n",
              "top         1\n",
              "freq      402\n",
              "Name: Bare Nuclei, dtype: object"
            ]
          },
          "metadata": {
            "tags": []
          },
          "execution_count": 8
        }
      ]
    },
    {
      "cell_type": "code",
      "metadata": {
        "id": "pCVLKO7m1ICY",
        "colab_type": "code",
        "outputId": "5652ca5b-9baf-46cd-b70f-07b09378f2a0",
        "colab": {
          "base_uri": "https://localhost:8080/",
          "height": 221
        }
      },
      "source": [
        "breast_cancer['Bare Nuclei'].value_counts()"
      ],
      "execution_count": 9,
      "outputs": [
        {
          "output_type": "execute_result",
          "data": {
            "text/plain": [
              "1     402\n",
              "10    132\n",
              "5      30\n",
              "2      30\n",
              "3      28\n",
              "8      21\n",
              "4      19\n",
              "?      16\n",
              "9       9\n",
              "7       8\n",
              "6       4\n",
              "Name: Bare Nuclei, dtype: int64"
            ]
          },
          "metadata": {
            "tags": []
          },
          "execution_count": 9
        }
      ]
    },
    {
      "cell_type": "code",
      "metadata": {
        "id": "4pn5ZTLT1KX5",
        "colab_type": "code",
        "colab": {}
      },
      "source": [
        "#Removing ?Bare Nuclei values with '?'\n",
        "\n",
        "tmp = breast_cancer[breast_cancer['Bare Nuclei']=='?']\n",
        "tmp.index\n",
        "\n",
        "df = breast_cancer.drop(index=tmp.index)"
      ],
      "execution_count": 0,
      "outputs": []
    },
    {
      "cell_type": "code",
      "metadata": {
        "id": "doNBXI3jl604",
        "colab_type": "code",
        "colab": {
          "base_uri": "https://localhost:8080/",
          "height": 436
        },
        "outputId": "6a01c2ca-aee5-47d1-9097-746958d1c2aa"
      },
      "source": [
        "df"
      ],
      "execution_count": 11,
      "outputs": [
        {
          "output_type": "execute_result",
          "data": {
            "text/html": [
              "<div>\n",
              "<style scoped>\n",
              "    .dataframe tbody tr th:only-of-type {\n",
              "        vertical-align: middle;\n",
              "    }\n",
              "\n",
              "    .dataframe tbody tr th {\n",
              "        vertical-align: top;\n",
              "    }\n",
              "\n",
              "    .dataframe thead th {\n",
              "        text-align: right;\n",
              "    }\n",
              "</style>\n",
              "<table border=\"1\" class=\"dataframe\">\n",
              "  <thead>\n",
              "    <tr style=\"text-align: right;\">\n",
              "      <th></th>\n",
              "      <th>id</th>\n",
              "      <th>Clump Thickness</th>\n",
              "      <th>Uniformity of Cell Size</th>\n",
              "      <th>Uniformity of Cell Shape</th>\n",
              "      <th>Marginal Adhesion</th>\n",
              "      <th>Single Epithelial Cell Size</th>\n",
              "      <th>Bare Nuclei</th>\n",
              "      <th>Bland Chromatin</th>\n",
              "      <th>Normal Nucleoli</th>\n",
              "      <th>Mitoses</th>\n",
              "      <th>Class</th>\n",
              "    </tr>\n",
              "  </thead>\n",
              "  <tbody>\n",
              "    <tr>\n",
              "      <th>0</th>\n",
              "      <td>1000025</td>\n",
              "      <td>5</td>\n",
              "      <td>1</td>\n",
              "      <td>1</td>\n",
              "      <td>1</td>\n",
              "      <td>2</td>\n",
              "      <td>1</td>\n",
              "      <td>3</td>\n",
              "      <td>1</td>\n",
              "      <td>1</td>\n",
              "      <td>2</td>\n",
              "    </tr>\n",
              "    <tr>\n",
              "      <th>1</th>\n",
              "      <td>1002945</td>\n",
              "      <td>5</td>\n",
              "      <td>4</td>\n",
              "      <td>4</td>\n",
              "      <td>5</td>\n",
              "      <td>7</td>\n",
              "      <td>10</td>\n",
              "      <td>3</td>\n",
              "      <td>2</td>\n",
              "      <td>1</td>\n",
              "      <td>2</td>\n",
              "    </tr>\n",
              "    <tr>\n",
              "      <th>2</th>\n",
              "      <td>1015425</td>\n",
              "      <td>3</td>\n",
              "      <td>1</td>\n",
              "      <td>1</td>\n",
              "      <td>1</td>\n",
              "      <td>2</td>\n",
              "      <td>2</td>\n",
              "      <td>3</td>\n",
              "      <td>1</td>\n",
              "      <td>1</td>\n",
              "      <td>2</td>\n",
              "    </tr>\n",
              "    <tr>\n",
              "      <th>3</th>\n",
              "      <td>1016277</td>\n",
              "      <td>6</td>\n",
              "      <td>8</td>\n",
              "      <td>8</td>\n",
              "      <td>1</td>\n",
              "      <td>3</td>\n",
              "      <td>4</td>\n",
              "      <td>3</td>\n",
              "      <td>7</td>\n",
              "      <td>1</td>\n",
              "      <td>2</td>\n",
              "    </tr>\n",
              "    <tr>\n",
              "      <th>4</th>\n",
              "      <td>1017023</td>\n",
              "      <td>4</td>\n",
              "      <td>1</td>\n",
              "      <td>1</td>\n",
              "      <td>3</td>\n",
              "      <td>2</td>\n",
              "      <td>1</td>\n",
              "      <td>3</td>\n",
              "      <td>1</td>\n",
              "      <td>1</td>\n",
              "      <td>2</td>\n",
              "    </tr>\n",
              "    <tr>\n",
              "      <th>...</th>\n",
              "      <td>...</td>\n",
              "      <td>...</td>\n",
              "      <td>...</td>\n",
              "      <td>...</td>\n",
              "      <td>...</td>\n",
              "      <td>...</td>\n",
              "      <td>...</td>\n",
              "      <td>...</td>\n",
              "      <td>...</td>\n",
              "      <td>...</td>\n",
              "      <td>...</td>\n",
              "    </tr>\n",
              "    <tr>\n",
              "      <th>694</th>\n",
              "      <td>776715</td>\n",
              "      <td>3</td>\n",
              "      <td>1</td>\n",
              "      <td>1</td>\n",
              "      <td>1</td>\n",
              "      <td>3</td>\n",
              "      <td>2</td>\n",
              "      <td>1</td>\n",
              "      <td>1</td>\n",
              "      <td>1</td>\n",
              "      <td>2</td>\n",
              "    </tr>\n",
              "    <tr>\n",
              "      <th>695</th>\n",
              "      <td>841769</td>\n",
              "      <td>2</td>\n",
              "      <td>1</td>\n",
              "      <td>1</td>\n",
              "      <td>1</td>\n",
              "      <td>2</td>\n",
              "      <td>1</td>\n",
              "      <td>1</td>\n",
              "      <td>1</td>\n",
              "      <td>1</td>\n",
              "      <td>2</td>\n",
              "    </tr>\n",
              "    <tr>\n",
              "      <th>696</th>\n",
              "      <td>888820</td>\n",
              "      <td>5</td>\n",
              "      <td>10</td>\n",
              "      <td>10</td>\n",
              "      <td>3</td>\n",
              "      <td>7</td>\n",
              "      <td>3</td>\n",
              "      <td>8</td>\n",
              "      <td>10</td>\n",
              "      <td>2</td>\n",
              "      <td>4</td>\n",
              "    </tr>\n",
              "    <tr>\n",
              "      <th>697</th>\n",
              "      <td>897471</td>\n",
              "      <td>4</td>\n",
              "      <td>8</td>\n",
              "      <td>6</td>\n",
              "      <td>4</td>\n",
              "      <td>3</td>\n",
              "      <td>4</td>\n",
              "      <td>10</td>\n",
              "      <td>6</td>\n",
              "      <td>1</td>\n",
              "      <td>4</td>\n",
              "    </tr>\n",
              "    <tr>\n",
              "      <th>698</th>\n",
              "      <td>897471</td>\n",
              "      <td>4</td>\n",
              "      <td>8</td>\n",
              "      <td>8</td>\n",
              "      <td>5</td>\n",
              "      <td>4</td>\n",
              "      <td>5</td>\n",
              "      <td>10</td>\n",
              "      <td>4</td>\n",
              "      <td>1</td>\n",
              "      <td>4</td>\n",
              "    </tr>\n",
              "  </tbody>\n",
              "</table>\n",
              "<p>683 rows × 11 columns</p>\n",
              "</div>"
            ],
            "text/plain": [
              "          id  Clump Thickness  ...  Mitoses  Class\n",
              "0    1000025                5  ...        1      2\n",
              "1    1002945                5  ...        1      2\n",
              "2    1015425                3  ...        1      2\n",
              "3    1016277                6  ...        1      2\n",
              "4    1017023                4  ...        1      2\n",
              "..       ...              ...  ...      ...    ...\n",
              "694   776715                3  ...        1      2\n",
              "695   841769                2  ...        1      2\n",
              "696   888820                5  ...        2      4\n",
              "697   897471                4  ...        1      4\n",
              "698   897471                4  ...        1      4\n",
              "\n",
              "[683 rows x 11 columns]"
            ]
          },
          "metadata": {
            "tags": []
          },
          "execution_count": 11
        }
      ]
    },
    {
      "cell_type": "code",
      "metadata": {
        "id": "tkzADUW4oYyf",
        "colab_type": "code",
        "colab": {
          "base_uri": "https://localhost:8080/",
          "height": 436
        },
        "outputId": "1a521e26-bed6-4182-cd11-9ea8a926fbde"
      },
      "source": [
        "df.reset_index()"
      ],
      "execution_count": 12,
      "outputs": [
        {
          "output_type": "execute_result",
          "data": {
            "text/html": [
              "<div>\n",
              "<style scoped>\n",
              "    .dataframe tbody tr th:only-of-type {\n",
              "        vertical-align: middle;\n",
              "    }\n",
              "\n",
              "    .dataframe tbody tr th {\n",
              "        vertical-align: top;\n",
              "    }\n",
              "\n",
              "    .dataframe thead th {\n",
              "        text-align: right;\n",
              "    }\n",
              "</style>\n",
              "<table border=\"1\" class=\"dataframe\">\n",
              "  <thead>\n",
              "    <tr style=\"text-align: right;\">\n",
              "      <th></th>\n",
              "      <th>index</th>\n",
              "      <th>id</th>\n",
              "      <th>Clump Thickness</th>\n",
              "      <th>Uniformity of Cell Size</th>\n",
              "      <th>Uniformity of Cell Shape</th>\n",
              "      <th>Marginal Adhesion</th>\n",
              "      <th>Single Epithelial Cell Size</th>\n",
              "      <th>Bare Nuclei</th>\n",
              "      <th>Bland Chromatin</th>\n",
              "      <th>Normal Nucleoli</th>\n",
              "      <th>Mitoses</th>\n",
              "      <th>Class</th>\n",
              "    </tr>\n",
              "  </thead>\n",
              "  <tbody>\n",
              "    <tr>\n",
              "      <th>0</th>\n",
              "      <td>0</td>\n",
              "      <td>1000025</td>\n",
              "      <td>5</td>\n",
              "      <td>1</td>\n",
              "      <td>1</td>\n",
              "      <td>1</td>\n",
              "      <td>2</td>\n",
              "      <td>1</td>\n",
              "      <td>3</td>\n",
              "      <td>1</td>\n",
              "      <td>1</td>\n",
              "      <td>2</td>\n",
              "    </tr>\n",
              "    <tr>\n",
              "      <th>1</th>\n",
              "      <td>1</td>\n",
              "      <td>1002945</td>\n",
              "      <td>5</td>\n",
              "      <td>4</td>\n",
              "      <td>4</td>\n",
              "      <td>5</td>\n",
              "      <td>7</td>\n",
              "      <td>10</td>\n",
              "      <td>3</td>\n",
              "      <td>2</td>\n",
              "      <td>1</td>\n",
              "      <td>2</td>\n",
              "    </tr>\n",
              "    <tr>\n",
              "      <th>2</th>\n",
              "      <td>2</td>\n",
              "      <td>1015425</td>\n",
              "      <td>3</td>\n",
              "      <td>1</td>\n",
              "      <td>1</td>\n",
              "      <td>1</td>\n",
              "      <td>2</td>\n",
              "      <td>2</td>\n",
              "      <td>3</td>\n",
              "      <td>1</td>\n",
              "      <td>1</td>\n",
              "      <td>2</td>\n",
              "    </tr>\n",
              "    <tr>\n",
              "      <th>3</th>\n",
              "      <td>3</td>\n",
              "      <td>1016277</td>\n",
              "      <td>6</td>\n",
              "      <td>8</td>\n",
              "      <td>8</td>\n",
              "      <td>1</td>\n",
              "      <td>3</td>\n",
              "      <td>4</td>\n",
              "      <td>3</td>\n",
              "      <td>7</td>\n",
              "      <td>1</td>\n",
              "      <td>2</td>\n",
              "    </tr>\n",
              "    <tr>\n",
              "      <th>4</th>\n",
              "      <td>4</td>\n",
              "      <td>1017023</td>\n",
              "      <td>4</td>\n",
              "      <td>1</td>\n",
              "      <td>1</td>\n",
              "      <td>3</td>\n",
              "      <td>2</td>\n",
              "      <td>1</td>\n",
              "      <td>3</td>\n",
              "      <td>1</td>\n",
              "      <td>1</td>\n",
              "      <td>2</td>\n",
              "    </tr>\n",
              "    <tr>\n",
              "      <th>...</th>\n",
              "      <td>...</td>\n",
              "      <td>...</td>\n",
              "      <td>...</td>\n",
              "      <td>...</td>\n",
              "      <td>...</td>\n",
              "      <td>...</td>\n",
              "      <td>...</td>\n",
              "      <td>...</td>\n",
              "      <td>...</td>\n",
              "      <td>...</td>\n",
              "      <td>...</td>\n",
              "      <td>...</td>\n",
              "    </tr>\n",
              "    <tr>\n",
              "      <th>678</th>\n",
              "      <td>694</td>\n",
              "      <td>776715</td>\n",
              "      <td>3</td>\n",
              "      <td>1</td>\n",
              "      <td>1</td>\n",
              "      <td>1</td>\n",
              "      <td>3</td>\n",
              "      <td>2</td>\n",
              "      <td>1</td>\n",
              "      <td>1</td>\n",
              "      <td>1</td>\n",
              "      <td>2</td>\n",
              "    </tr>\n",
              "    <tr>\n",
              "      <th>679</th>\n",
              "      <td>695</td>\n",
              "      <td>841769</td>\n",
              "      <td>2</td>\n",
              "      <td>1</td>\n",
              "      <td>1</td>\n",
              "      <td>1</td>\n",
              "      <td>2</td>\n",
              "      <td>1</td>\n",
              "      <td>1</td>\n",
              "      <td>1</td>\n",
              "      <td>1</td>\n",
              "      <td>2</td>\n",
              "    </tr>\n",
              "    <tr>\n",
              "      <th>680</th>\n",
              "      <td>696</td>\n",
              "      <td>888820</td>\n",
              "      <td>5</td>\n",
              "      <td>10</td>\n",
              "      <td>10</td>\n",
              "      <td>3</td>\n",
              "      <td>7</td>\n",
              "      <td>3</td>\n",
              "      <td>8</td>\n",
              "      <td>10</td>\n",
              "      <td>2</td>\n",
              "      <td>4</td>\n",
              "    </tr>\n",
              "    <tr>\n",
              "      <th>681</th>\n",
              "      <td>697</td>\n",
              "      <td>897471</td>\n",
              "      <td>4</td>\n",
              "      <td>8</td>\n",
              "      <td>6</td>\n",
              "      <td>4</td>\n",
              "      <td>3</td>\n",
              "      <td>4</td>\n",
              "      <td>10</td>\n",
              "      <td>6</td>\n",
              "      <td>1</td>\n",
              "      <td>4</td>\n",
              "    </tr>\n",
              "    <tr>\n",
              "      <th>682</th>\n",
              "      <td>698</td>\n",
              "      <td>897471</td>\n",
              "      <td>4</td>\n",
              "      <td>8</td>\n",
              "      <td>8</td>\n",
              "      <td>5</td>\n",
              "      <td>4</td>\n",
              "      <td>5</td>\n",
              "      <td>10</td>\n",
              "      <td>4</td>\n",
              "      <td>1</td>\n",
              "      <td>4</td>\n",
              "    </tr>\n",
              "  </tbody>\n",
              "</table>\n",
              "<p>683 rows × 12 columns</p>\n",
              "</div>"
            ],
            "text/plain": [
              "     index       id  Clump Thickness  ...  Normal Nucleoli  Mitoses  Class\n",
              "0        0  1000025                5  ...                1        1      2\n",
              "1        1  1002945                5  ...                2        1      2\n",
              "2        2  1015425                3  ...                1        1      2\n",
              "3        3  1016277                6  ...                7        1      2\n",
              "4        4  1017023                4  ...                1        1      2\n",
              "..     ...      ...              ...  ...              ...      ...    ...\n",
              "678    694   776715                3  ...                1        1      2\n",
              "679    695   841769                2  ...                1        1      2\n",
              "680    696   888820                5  ...               10        2      4\n",
              "681    697   897471                4  ...                6        1      4\n",
              "682    698   897471                4  ...                4        1      4\n",
              "\n",
              "[683 rows x 12 columns]"
            ]
          },
          "metadata": {
            "tags": []
          },
          "execution_count": 12
        }
      ]
    },
    {
      "cell_type": "code",
      "metadata": {
        "id": "-pS3bxfbNWj3",
        "colab_type": "code",
        "outputId": "d9974ce0-ddf1-4392-e197-6d9b4bd63a3e",
        "colab": {
          "base_uri": "https://localhost:8080/",
          "height": 68
        }
      },
      "source": [
        "df['Class'].value_counts()"
      ],
      "execution_count": 13,
      "outputs": [
        {
          "output_type": "execute_result",
          "data": {
            "text/plain": [
              "2    444\n",
              "4    239\n",
              "Name: Class, dtype: int64"
            ]
          },
          "metadata": {
            "tags": []
          },
          "execution_count": 13
        }
      ]
    },
    {
      "cell_type": "code",
      "metadata": {
        "id": "jFkIrYzZN0_B",
        "colab_type": "code",
        "colab": {}
      },
      "source": [
        "df['Class']=df['Class']/2 -1"
      ],
      "execution_count": 0,
      "outputs": []
    },
    {
      "cell_type": "code",
      "metadata": {
        "id": "G4_eLaOeQXcs",
        "colab_type": "code",
        "outputId": "76f5de84-daf9-4aa1-f5ff-7f7c18d330f9",
        "colab": {
          "base_uri": "https://localhost:8080/",
          "height": 68
        }
      },
      "source": [
        "df['Class'].value_counts()"
      ],
      "execution_count": 15,
      "outputs": [
        {
          "output_type": "execute_result",
          "data": {
            "text/plain": [
              "0.0    444\n",
              "1.0    239\n",
              "Name: Class, dtype: int64"
            ]
          },
          "metadata": {
            "tags": []
          },
          "execution_count": 15
        }
      ]
    },
    {
      "cell_type": "code",
      "metadata": {
        "id": "LafDiFUTQlF2",
        "colab_type": "code",
        "outputId": "cd8fb8bf-2aca-4895-db2d-b579f33fbcd1",
        "colab": {
          "base_uri": "https://localhost:8080/",
          "height": 102
        }
      },
      "source": [
        "df.columns"
      ],
      "execution_count": 16,
      "outputs": [
        {
          "output_type": "execute_result",
          "data": {
            "text/plain": [
              "Index(['id', 'Clump Thickness', 'Uniformity of Cell Size',\n",
              "       'Uniformity of Cell Shape', 'Marginal Adhesion',\n",
              "       'Single Epithelial Cell Size', 'Bare Nuclei', 'Bland Chromatin',\n",
              "       'Normal Nucleoli', 'Mitoses', 'Class'],\n",
              "      dtype='object')"
            ]
          },
          "metadata": {
            "tags": []
          },
          "execution_count": 16
        }
      ]
    },
    {
      "cell_type": "code",
      "metadata": {
        "id": "G8rCjc-UREBN",
        "colab_type": "code",
        "outputId": "6169ab91-c660-4a4c-8a34-d0aa3ac26b17",
        "colab": {
          "base_uri": "https://localhost:8080/",
          "height": 289
        }
      },
      "source": [
        "df.info()"
      ],
      "execution_count": 17,
      "outputs": [
        {
          "output_type": "stream",
          "text": [
            "<class 'pandas.core.frame.DataFrame'>\n",
            "Int64Index: 683 entries, 0 to 698\n",
            "Data columns (total 11 columns):\n",
            "id                             683 non-null int64\n",
            "Clump Thickness                683 non-null int64\n",
            "Uniformity of Cell Size        683 non-null int64\n",
            "Uniformity of Cell Shape       683 non-null int64\n",
            "Marginal Adhesion              683 non-null int64\n",
            "Single Epithelial Cell Size    683 non-null int64\n",
            "Bare Nuclei                    683 non-null object\n",
            "Bland Chromatin                683 non-null int64\n",
            "Normal Nucleoli                683 non-null int64\n",
            "Mitoses                        683 non-null int64\n",
            "Class                          683 non-null float64\n",
            "dtypes: float64(1), int64(9), object(1)\n",
            "memory usage: 64.0+ KB\n"
          ],
          "name": "stdout"
        }
      ]
    },
    {
      "cell_type": "markdown",
      "metadata": {
        "id": "bLFNO_mvwYp5",
        "colab_type": "text"
      },
      "source": [
        "#####Data Visualization"
      ]
    },
    {
      "cell_type": "code",
      "metadata": {
        "id": "hEOpXYGpwYOg",
        "colab_type": "code",
        "colab": {
          "base_uri": "https://localhost:8080/",
          "height": 1000
        },
        "outputId": "d1dd3431-5122-48c0-9f61-7f06faf6ba00"
      },
      "source": [
        "sns.pairplot(df, height=3)\n",
        "plt.show()"
      ],
      "execution_count": 18,
      "outputs": [
        {
          "output_type": "display_data",
          "data": {
            "image/png": "[encoded data removed]",
            "text/plain": [
              "<Figure size 2376x2376 with 132 Axes>"
            ]
          },
          "metadata": {
            "tags": []
          }
        }
      ]
    },
    {
      "cell_type": "markdown",
      "metadata": {
        "id": "9zLTOr8QwchN",
        "colab_type": "text"
      },
      "source": [
        "#Split dataset in input and output"
      ]
    },
    {
      "cell_type": "code",
      "metadata": {
        "id": "iKZVL6G6RHyn",
        "colab_type": "code",
        "colab": {}
      },
      "source": [
        "X = df.drop(columns=['id','Class'])\n",
        "X_col=X.columns"
      ],
      "execution_count": 0,
      "outputs": []
    },
    {
      "cell_type": "code",
      "metadata": {
        "id": "U9dqnsn_SQ-1",
        "colab_type": "code",
        "colab": {}
      },
      "source": [
        "y=df['Class']"
      ],
      "execution_count": 0,
      "outputs": []
    },
    {
      "cell_type": "code",
      "metadata": {
        "id": "iA4Y9xUtS5Rk",
        "colab_type": "code",
        "colab": {}
      },
      "source": [
        "# Scaling Dataset\n",
        "\n",
        "from sklearn.preprocessing import StandardScaler\n",
        "\n",
        "X1 = StandardScaler().fit_transform(X.values)"
      ],
      "execution_count": 0,
      "outputs": []
    },
    {
      "cell_type": "code",
      "metadata": {
        "id": "IN1yjHBdTOg_",
        "colab_type": "code",
        "outputId": "8b239904-fac0-406f-ff2c-4f438a44cc3d",
        "colab": {
          "base_uri": "https://localhost:8080/",
          "height": 436
        }
      },
      "source": [
        "X=pd.DataFrame(X1,columns=X_col)\n",
        "X"
      ],
      "execution_count": 22,
      "outputs": [
        {
          "output_type": "execute_result",
          "data": {
            "text/html": [
              "<div>\n",
              "<style scoped>\n",
              "    .dataframe tbody tr th:only-of-type {\n",
              "        vertical-align: middle;\n",
              "    }\n",
              "\n",
              "    .dataframe tbody tr th {\n",
              "        vertical-align: top;\n",
              "    }\n",
              "\n",
              "    .dataframe thead th {\n",
              "        text-align: right;\n",
              "    }\n",
              "</style>\n",
              "<table border=\"1\" class=\"dataframe\">\n",
              "  <thead>\n",
              "    <tr style=\"text-align: right;\">\n",
              "      <th></th>\n",
              "      <th>Clump Thickness</th>\n",
              "      <th>Uniformity of Cell Size</th>\n",
              "      <th>Uniformity of Cell Shape</th>\n",
              "      <th>Marginal Adhesion</th>\n",
              "      <th>Single Epithelial Cell Size</th>\n",
              "      <th>Bare Nuclei</th>\n",
              "      <th>Bland Chromatin</th>\n",
              "      <th>Normal Nucleoli</th>\n",
              "      <th>Mitoses</th>\n",
              "    </tr>\n",
              "  </thead>\n",
              "  <tbody>\n",
              "    <tr>\n",
              "      <th>0</th>\n",
              "      <td>0.197905</td>\n",
              "      <td>-0.702212</td>\n",
              "      <td>-0.741774</td>\n",
              "      <td>-0.639366</td>\n",
              "      <td>-0.555608</td>\n",
              "      <td>-0.698853</td>\n",
              "      <td>-0.181827</td>\n",
              "      <td>-0.612927</td>\n",
              "      <td>-0.348400</td>\n",
              "    </tr>\n",
              "    <tr>\n",
              "      <th>1</th>\n",
              "      <td>0.197905</td>\n",
              "      <td>0.277252</td>\n",
              "      <td>0.262783</td>\n",
              "      <td>0.758032</td>\n",
              "      <td>1.695166</td>\n",
              "      <td>1.772867</td>\n",
              "      <td>-0.181827</td>\n",
              "      <td>-0.285105</td>\n",
              "      <td>-0.348400</td>\n",
              "    </tr>\n",
              "    <tr>\n",
              "      <th>2</th>\n",
              "      <td>-0.511643</td>\n",
              "      <td>-0.702212</td>\n",
              "      <td>-0.741774</td>\n",
              "      <td>-0.639366</td>\n",
              "      <td>-0.555608</td>\n",
              "      <td>-0.424217</td>\n",
              "      <td>-0.181827</td>\n",
              "      <td>-0.612927</td>\n",
              "      <td>-0.348400</td>\n",
              "    </tr>\n",
              "    <tr>\n",
              "      <th>3</th>\n",
              "      <td>0.552679</td>\n",
              "      <td>1.583204</td>\n",
              "      <td>1.602192</td>\n",
              "      <td>-0.639366</td>\n",
              "      <td>-0.105454</td>\n",
              "      <td>0.125054</td>\n",
              "      <td>-0.181827</td>\n",
              "      <td>1.354008</td>\n",
              "      <td>-0.348400</td>\n",
              "    </tr>\n",
              "    <tr>\n",
              "      <th>4</th>\n",
              "      <td>-0.156869</td>\n",
              "      <td>-0.702212</td>\n",
              "      <td>-0.741774</td>\n",
              "      <td>0.059333</td>\n",
              "      <td>-0.555608</td>\n",
              "      <td>-0.698853</td>\n",
              "      <td>-0.181827</td>\n",
              "      <td>-0.612927</td>\n",
              "      <td>-0.348400</td>\n",
              "    </tr>\n",
              "    <tr>\n",
              "      <th>...</th>\n",
              "      <td>...</td>\n",
              "      <td>...</td>\n",
              "      <td>...</td>\n",
              "      <td>...</td>\n",
              "      <td>...</td>\n",
              "      <td>...</td>\n",
              "      <td>...</td>\n",
              "      <td>...</td>\n",
              "      <td>...</td>\n",
              "    </tr>\n",
              "    <tr>\n",
              "      <th>678</th>\n",
              "      <td>-0.511643</td>\n",
              "      <td>-0.702212</td>\n",
              "      <td>-0.741774</td>\n",
              "      <td>-0.639366</td>\n",
              "      <td>-0.105454</td>\n",
              "      <td>-0.424217</td>\n",
              "      <td>-0.998853</td>\n",
              "      <td>-0.612927</td>\n",
              "      <td>-0.348400</td>\n",
              "    </tr>\n",
              "    <tr>\n",
              "      <th>679</th>\n",
              "      <td>-0.866417</td>\n",
              "      <td>-0.702212</td>\n",
              "      <td>-0.741774</td>\n",
              "      <td>-0.639366</td>\n",
              "      <td>-0.555608</td>\n",
              "      <td>-0.698853</td>\n",
              "      <td>-0.998853</td>\n",
              "      <td>-0.612927</td>\n",
              "      <td>-0.348400</td>\n",
              "    </tr>\n",
              "    <tr>\n",
              "      <th>680</th>\n",
              "      <td>0.197905</td>\n",
              "      <td>2.236180</td>\n",
              "      <td>2.271896</td>\n",
              "      <td>0.059333</td>\n",
              "      <td>1.695166</td>\n",
              "      <td>-0.149582</td>\n",
              "      <td>1.860738</td>\n",
              "      <td>2.337476</td>\n",
              "      <td>0.229166</td>\n",
              "    </tr>\n",
              "    <tr>\n",
              "      <th>681</th>\n",
              "      <td>-0.156869</td>\n",
              "      <td>1.583204</td>\n",
              "      <td>0.932487</td>\n",
              "      <td>0.408682</td>\n",
              "      <td>-0.105454</td>\n",
              "      <td>0.125054</td>\n",
              "      <td>2.677764</td>\n",
              "      <td>1.026185</td>\n",
              "      <td>-0.348400</td>\n",
              "    </tr>\n",
              "    <tr>\n",
              "      <th>682</th>\n",
              "      <td>-0.156869</td>\n",
              "      <td>1.583204</td>\n",
              "      <td>1.602192</td>\n",
              "      <td>0.758032</td>\n",
              "      <td>0.344701</td>\n",
              "      <td>0.399689</td>\n",
              "      <td>2.677764</td>\n",
              "      <td>0.370540</td>\n",
              "      <td>-0.348400</td>\n",
              "    </tr>\n",
              "  </tbody>\n",
              "</table>\n",
              "<p>683 rows × 9 columns</p>\n",
              "</div>"
            ],
            "text/plain": [
              "     Clump Thickness  Uniformity of Cell Size  ...  Normal Nucleoli   Mitoses\n",
              "0           0.197905                -0.702212  ...        -0.612927 -0.348400\n",
              "1           0.197905                 0.277252  ...        -0.285105 -0.348400\n",
              "2          -0.511643                -0.702212  ...        -0.612927 -0.348400\n",
              "3           0.552679                 1.583204  ...         1.354008 -0.348400\n",
              "4          -0.156869                -0.702212  ...        -0.612927 -0.348400\n",
              "..               ...                      ...  ...              ...       ...\n",
              "678        -0.511643                -0.702212  ...        -0.612927 -0.348400\n",
              "679        -0.866417                -0.702212  ...        -0.612927 -0.348400\n",
              "680         0.197905                 2.236180  ...         2.337476  0.229166\n",
              "681        -0.156869                 1.583204  ...         1.026185 -0.348400\n",
              "682        -0.156869                 1.583204  ...         0.370540 -0.348400\n",
              "\n",
              "[683 rows x 9 columns]"
            ]
          },
          "metadata": {
            "tags": []
          },
          "execution_count": 22
        }
      ]
    },
    {
      "cell_type": "code",
      "metadata": {
        "id": "R-XGMbsKTVku",
        "colab_type": "code",
        "colab": {}
      },
      "source": [
        "# Split Dataset\n",
        "\n",
        "from sklearn.model_selection import train_test_split\n",
        "\n",
        "X_train, X_test, y_train, y_test =train_test_split(X,y,test_size=0.8,random_state=42)"
      ],
      "execution_count": 0,
      "outputs": []
    },
    {
      "cell_type": "markdown",
      "metadata": {
        "id": "-ohNo8LE1ckd",
        "colab_type": "text"
      },
      "source": [
        "#### Scale Data"
      ]
    },
    {
      "cell_type": "code",
      "metadata": {
        "id": "E06pZ8B2TtmQ",
        "colab_type": "code",
        "outputId": "fecbf2bd-95b0-4ac8-8c3f-9f934b1d2c72",
        "colab": {
          "base_uri": "https://localhost:8080/",
          "height": 221
        }
      },
      "source": [
        "from sklearn.preprocessing import MinMaxScaler\n",
        "pd.DataFrame(MinMaxScaler().fit_transform(df.drop(['id','Class'],axis=1).values), columns=X_col).head()"
      ],
      "execution_count": 24,
      "outputs": [
        {
          "output_type": "execute_result",
          "data": {
            "text/html": [
              "<div>\n",
              "<style scoped>\n",
              "    .dataframe tbody tr th:only-of-type {\n",
              "        vertical-align: middle;\n",
              "    }\n",
              "\n",
              "    .dataframe tbody tr th {\n",
              "        vertical-align: top;\n",
              "    }\n",
              "\n",
              "    .dataframe thead th {\n",
              "        text-align: right;\n",
              "    }\n",
              "</style>\n",
              "<table border=\"1\" class=\"dataframe\">\n",
              "  <thead>\n",
              "    <tr style=\"text-align: right;\">\n",
              "      <th></th>\n",
              "      <th>Clump Thickness</th>\n",
              "      <th>Uniformity of Cell Size</th>\n",
              "      <th>Uniformity of Cell Shape</th>\n",
              "      <th>Marginal Adhesion</th>\n",
              "      <th>Single Epithelial Cell Size</th>\n",
              "      <th>Bare Nuclei</th>\n",
              "      <th>Bland Chromatin</th>\n",
              "      <th>Normal Nucleoli</th>\n",
              "      <th>Mitoses</th>\n",
              "    </tr>\n",
              "  </thead>\n",
              "  <tbody>\n",
              "    <tr>\n",
              "      <th>0</th>\n",
              "      <td>0.444444</td>\n",
              "      <td>0.000000</td>\n",
              "      <td>0.000000</td>\n",
              "      <td>0.000000</td>\n",
              "      <td>0.111111</td>\n",
              "      <td>0.000000</td>\n",
              "      <td>0.222222</td>\n",
              "      <td>0.000000</td>\n",
              "      <td>0.0</td>\n",
              "    </tr>\n",
              "    <tr>\n",
              "      <th>1</th>\n",
              "      <td>0.444444</td>\n",
              "      <td>0.333333</td>\n",
              "      <td>0.333333</td>\n",
              "      <td>0.444444</td>\n",
              "      <td>0.666667</td>\n",
              "      <td>1.000000</td>\n",
              "      <td>0.222222</td>\n",
              "      <td>0.111111</td>\n",
              "      <td>0.0</td>\n",
              "    </tr>\n",
              "    <tr>\n",
              "      <th>2</th>\n",
              "      <td>0.222222</td>\n",
              "      <td>0.000000</td>\n",
              "      <td>0.000000</td>\n",
              "      <td>0.000000</td>\n",
              "      <td>0.111111</td>\n",
              "      <td>0.111111</td>\n",
              "      <td>0.222222</td>\n",
              "      <td>0.000000</td>\n",
              "      <td>0.0</td>\n",
              "    </tr>\n",
              "    <tr>\n",
              "      <th>3</th>\n",
              "      <td>0.555556</td>\n",
              "      <td>0.777778</td>\n",
              "      <td>0.777778</td>\n",
              "      <td>0.000000</td>\n",
              "      <td>0.222222</td>\n",
              "      <td>0.333333</td>\n",
              "      <td>0.222222</td>\n",
              "      <td>0.666667</td>\n",
              "      <td>0.0</td>\n",
              "    </tr>\n",
              "    <tr>\n",
              "      <th>4</th>\n",
              "      <td>0.333333</td>\n",
              "      <td>0.000000</td>\n",
              "      <td>0.000000</td>\n",
              "      <td>0.222222</td>\n",
              "      <td>0.111111</td>\n",
              "      <td>0.000000</td>\n",
              "      <td>0.222222</td>\n",
              "      <td>0.000000</td>\n",
              "      <td>0.0</td>\n",
              "    </tr>\n",
              "  </tbody>\n",
              "</table>\n",
              "</div>"
            ],
            "text/plain": [
              "   Clump Thickness  Uniformity of Cell Size  ...  Normal Nucleoli  Mitoses\n",
              "0         0.444444                 0.000000  ...         0.000000      0.0\n",
              "1         0.444444                 0.333333  ...         0.111111      0.0\n",
              "2         0.222222                 0.000000  ...         0.000000      0.0\n",
              "3         0.555556                 0.777778  ...         0.666667      0.0\n",
              "4         0.333333                 0.000000  ...         0.000000      0.0\n",
              "\n",
              "[5 rows x 9 columns]"
            ]
          },
          "metadata": {
            "tags": []
          },
          "execution_count": 24
        }
      ]
    },
    {
      "cell_type": "markdown",
      "metadata": {
        "id": "avZQUg141hHG",
        "colab_type": "text"
      },
      "source": [
        "#### Train Knn Model"
      ]
    },
    {
      "cell_type": "code",
      "metadata": {
        "id": "j8ug5F4DJrh8",
        "colab_type": "code",
        "colab": {}
      },
      "source": [
        "from sklearn.neighbors import KNeighborsClassifier"
      ],
      "execution_count": 0,
      "outputs": []
    },
    {
      "cell_type": "code",
      "metadata": {
        "id": "-aRa-tR-JxSj",
        "colab_type": "code",
        "colab": {}
      },
      "source": [
        "knn = KNeighborsClassifier(n_neighbors=10,p=2, metric='minkowski')"
      ],
      "execution_count": 0,
      "outputs": []
    },
    {
      "cell_type": "code",
      "metadata": {
        "id": "hDGJGMFcJ8v9",
        "colab_type": "code",
        "outputId": "3ee92dd8-12fb-4fc3-8450-5cfd5a016a60",
        "colab": {
          "base_uri": "https://localhost:8080/",
          "height": 68
        }
      },
      "source": [
        "knn.fit(X_train,y_train)"
      ],
      "execution_count": 27,
      "outputs": [
        {
          "output_type": "execute_result",
          "data": {
            "text/plain": [
              "KNeighborsClassifier(algorithm='auto', leaf_size=30, metric='minkowski',\n",
              "                     metric_params=None, n_jobs=None, n_neighbors=10, p=2,\n",
              "                     weights='uniform')"
            ]
          },
          "metadata": {
            "tags": []
          },
          "execution_count": 27
        }
      ]
    },
    {
      "cell_type": "code",
      "metadata": {
        "id": "Zo7YUxL0J_6_",
        "colab_type": "code",
        "colab": {}
      },
      "source": [
        "from sklearn import preprocessing\n",
        "from sklearn.model_selection import cross_val_score, cross_val_predict\n",
        "from sklearn.metrics import accuracy_score, classification_report\n",
        "from sklearn.metrics import confusion_matrix, roc_auc_score\n",
        "def print_score(clf, X_train, X_test, y_train, y_test, train=True):\n",
        "    '''\n",
        "    v0.1 Follow the scikit learn library format in terms of input\n",
        "    print the accuracy score, classification report and confusion matrix of classifier\n",
        "    '''\n",
        "    lb = preprocessing.LabelBinarizer()\n",
        "    lb.fit(y_train)\n",
        "    if train:\n",
        "        '''\n",
        "        training performance\n",
        "        '''\n",
        "        res = clf.predict(X_train)\n",
        "        print(\"Train Result:\\n\")\n",
        "        print(\"accuracy score: {0:.4f}\\n\".format(accuracy_score(y_train, \n",
        "                                                                res)))\n",
        "        print(\"Classification Report: \\n {}\\n\".format(classification_report(y_train, \n",
        "                                                                            res)))\n",
        "        print(\"Confusion Matrix: \\n {}\\n\".format(confusion_matrix(y_train, \n",
        "                                                                  res)))\n",
        "        print(\"ROC AUC: {0:.4f}\\n\".format(roc_auc_score(lb.transform(y_train), \n",
        "                                                      lb.transform(res))))\n",
        "\n",
        "        res = cross_val_score(clf, X_train, y_train, cv=10, scoring='accuracy')\n",
        "        print(\"Average Accuracy: \\t {0:.4f}\".format(np.mean(res)))\n",
        "        print(\"Accuracy SD: \\t\\t {0:.4f}\".format(np.std(res)))\n",
        "        \n",
        "    elif train==False:\n",
        "        '''\n",
        "        test performance\n",
        "        '''\n",
        "        res_test = clf.predict(X_test)\n",
        "        print(\"Test Result:\\n\")        \n",
        "        print(\"accuracy score: {0:.4f}\\n\".format(accuracy_score(y_test, \n",
        "                                                                res_test)))\n",
        "        print(\"Classification Report: \\n {}\\n\".format(classification_report(y_test, \n",
        "                                                                            res_test)))\n",
        "        print(\"Confusion Matrix: \\n {}\\n\".format(confusion_matrix(y_test, \n",
        "                                                                  res_test)))   \n",
        "        print(\"ROC AUC: {0:.4f}\\n\".format(roc_auc_score(lb.transform(y_test), \n",
        "                                                      lb.transform(res_test))))\n",
        "        \n",
        "        "
      ],
      "execution_count": 0,
      "outputs": []
    },
    {
      "cell_type": "code",
      "metadata": {
        "id": "HYntnqSfKFeM",
        "colab_type": "code",
        "outputId": "a53a7b69-ce3f-43f8-f7eb-da9ee76f4b0a",
        "colab": {
          "base_uri": "https://localhost:8080/",
          "height": 816
        }
      },
      "source": [
        "print_score(knn, X_train, X_test, y_train, y_test, train=True)\n",
        "print('\\n**********************************************\\n')\n",
        "print_score(knn, X_train, X_test, y_train, y_test, train=False)"
      ],
      "execution_count": 29,
      "outputs": [
        {
          "output_type": "stream",
          "text": [
            "Train Result:\n",
            "\n",
            "accuracy score: 0.9632\n",
            "\n",
            "Classification Report: \n",
            "               precision    recall  f1-score   support\n",
            "\n",
            "         0.0       0.97      0.98      0.97        85\n",
            "         1.0       0.96      0.94      0.95        51\n",
            "\n",
            "    accuracy                           0.96       136\n",
            "   macro avg       0.96      0.96      0.96       136\n",
            "weighted avg       0.96      0.96      0.96       136\n",
            "\n",
            "\n",
            "Confusion Matrix: \n",
            " [[83  2]\n",
            " [ 3 48]]\n",
            "\n",
            "ROC AUC: 0.9588\n",
            "\n",
            "Average Accuracy: \t 0.9555\n",
            "Accuracy SD: \t\t 0.0364\n",
            "\n",
            "**********************************************\n",
            "\n",
            "Test Result:\n",
            "\n",
            "accuracy score: 0.9598\n",
            "\n",
            "Classification Report: \n",
            "               precision    recall  f1-score   support\n",
            "\n",
            "         0.0       0.96      0.98      0.97       359\n",
            "         1.0       0.96      0.92      0.94       188\n",
            "\n",
            "    accuracy                           0.96       547\n",
            "   macro avg       0.96      0.95      0.95       547\n",
            "weighted avg       0.96      0.96      0.96       547\n",
            "\n",
            "\n",
            "Confusion Matrix: \n",
            " [[352   7]\n",
            " [ 15 173]]\n",
            "\n",
            "ROC AUC: 0.9504\n",
            "\n"
          ],
          "name": "stdout"
        }
      ]
    },
    {
      "cell_type": "markdown",
      "metadata": {
        "id": "GSNAI5bi1VmS",
        "colab_type": "text"
      },
      "source": [
        "#### Grid Search Using KNN"
      ]
    },
    {
      "cell_type": "code",
      "metadata": {
        "id": "xwRHCBmcKLBV",
        "colab_type": "code",
        "outputId": "ed115ed4-3da7-46ed-a8d1-f976dc15de45",
        "colab": {
          "base_uri": "https://localhost:8080/",
          "height": 153
        }
      },
      "source": [
        "from sklearn.model_selection import GridSearchCV\n",
        "knn.get_params()"
      ],
      "execution_count": 30,
      "outputs": [
        {
          "output_type": "execute_result",
          "data": {
            "text/plain": [
              "{'algorithm': 'auto',\n",
              " 'leaf_size': 30,\n",
              " 'metric': 'minkowski',\n",
              " 'metric_params': None,\n",
              " 'n_jobs': None,\n",
              " 'n_neighbors': 10,\n",
              " 'p': 2,\n",
              " 'weights': 'uniform'}"
            ]
          },
          "metadata": {
            "tags": []
          },
          "execution_count": 30
        }
      ]
    },
    {
      "cell_type": "code",
      "metadata": {
        "id": "b-DiSGemL9WH",
        "colab_type": "code",
        "outputId": "532cae40-c817-451f-bfff-3b6f585e9b25",
        "colab": {
          "base_uri": "https://localhost:8080/",
          "height": 272
        }
      },
      "source": [
        "params_grid = {'n_neighbors':[1,2,3,4,5,6,7,8,9,10,11,12,13,15,17,19]}\n",
        "\n",
        "knn_grid = GridSearchCV(knn,params_grid,n_jobs=-1,verbose=1,cv=10,iid=True)\n",
        "\n",
        "knn_grid.fit(X_train,y_train)\n"
      ],
      "execution_count": 31,
      "outputs": [
        {
          "output_type": "stream",
          "text": [
            "Fitting 10 folds for each of 16 candidates, totalling 160 fits\n"
          ],
          "name": "stdout"
        },
        {
          "output_type": "stream",
          "text": [
            "[Parallel(n_jobs=-1)]: Using backend LokyBackend with 2 concurrent workers.\n",
            "[Parallel(n_jobs=-1)]: Done 150 tasks      | elapsed:    2.3s\n",
            "[Parallel(n_jobs=-1)]: Done 160 out of 160 | elapsed:    2.3s finished\n"
          ],
          "name": "stderr"
        },
        {
          "output_type": "execute_result",
          "data": {
            "text/plain": [
              "GridSearchCV(cv=10, error_score='raise-deprecating',\n",
              "             estimator=KNeighborsClassifier(algorithm='auto', leaf_size=30,\n",
              "                                            metric='minkowski',\n",
              "                                            metric_params=None, n_jobs=None,\n",
              "                                            n_neighbors=10, p=2,\n",
              "                                            weights='uniform'),\n",
              "             iid=True, n_jobs=-1,\n",
              "             param_grid={'n_neighbors': [1, 2, 3, 4, 5, 6, 7, 8, 9, 10, 11, 12,\n",
              "                                         13, 15, 17, 19]},\n",
              "             pre_dispatch='2*n_jobs', refit=True, return_train_score=False,\n",
              "             scoring=None, verbose=1)"
            ]
          },
          "metadata": {
            "tags": []
          },
          "execution_count": 31
        }
      ]
    },
    {
      "cell_type": "code",
      "metadata": {
        "id": "G1H1NtNvMuNn",
        "colab_type": "code",
        "outputId": "b1d13f63-6c8d-4354-9f40-cf706e9711cf",
        "colab": {
          "base_uri": "https://localhost:8080/",
          "height": 34
        }
      },
      "source": [
        "knn_grid.best_score_"
      ],
      "execution_count": 32,
      "outputs": [
        {
          "output_type": "execute_result",
          "data": {
            "text/plain": [
              "0.9632352941176471"
            ]
          },
          "metadata": {
            "tags": []
          },
          "execution_count": 32
        }
      ]
    },
    {
      "cell_type": "code",
      "metadata": {
        "id": "099cuxGoM9CD",
        "colab_type": "code",
        "outputId": "df95b61d-14c9-4445-fd7b-e00ef99bf18b",
        "colab": {
          "base_uri": "https://localhost:8080/",
          "height": 34
        }
      },
      "source": [
        "knn_grid.best_params_"
      ],
      "execution_count": 33,
      "outputs": [
        {
          "output_type": "execute_result",
          "data": {
            "text/plain": [
              "{'n_neighbors': 8}"
            ]
          },
          "metadata": {
            "tags": []
          },
          "execution_count": 33
        }
      ]
    },
    {
      "cell_type": "code",
      "metadata": {
        "id": "UCgMB3a3M--u",
        "colab_type": "code",
        "outputId": "e42fd7a9-7f87-4421-a47b-59071ec54c21",
        "colab": {
          "base_uri": "https://localhost:8080/",
          "height": 1000
        }
      },
      "source": [
        "print_score(knn_grid, X_train, X_test, y_train, y_test, train=True)\n",
        "print('\\n*************************************************\\n')\n",
        "print_score(knn_grid, X_train, X_test, y_train, y_test, train=False)"
      ],
      "execution_count": 34,
      "outputs": [
        {
          "output_type": "stream",
          "text": [
            "[Parallel(n_jobs=-1)]: Using backend LokyBackend with 2 concurrent workers.\n"
          ],
          "name": "stderr"
        },
        {
          "output_type": "stream",
          "text": [
            "Train Result:\n",
            "\n",
            "accuracy score: 0.9559\n",
            "\n",
            "Classification Report: \n",
            "               precision    recall  f1-score   support\n",
            "\n",
            "         0.0       0.96      0.96      0.96        85\n",
            "         1.0       0.94      0.94      0.94        51\n",
            "\n",
            "    accuracy                           0.96       136\n",
            "   macro avg       0.95      0.95      0.95       136\n",
            "weighted avg       0.96      0.96      0.96       136\n",
            "\n",
            "\n",
            "Confusion Matrix: \n",
            " [[82  3]\n",
            " [ 3 48]]\n",
            "\n",
            "ROC AUC: 0.9529\n",
            "\n",
            "Fitting 10 folds for each of 16 candidates, totalling 160 fits\n"
          ],
          "name": "stdout"
        },
        {
          "output_type": "stream",
          "text": [
            "[Parallel(n_jobs=-1)]: Done 157 out of 160 | elapsed:    0.7s remaining:    0.0s\n",
            "[Parallel(n_jobs=-1)]: Done 160 out of 160 | elapsed:    0.7s finished\n",
            "[Parallel(n_jobs=-1)]: Using backend LokyBackend with 2 concurrent workers.\n"
          ],
          "name": "stderr"
        },
        {
          "output_type": "stream",
          "text": [
            "Fitting 10 folds for each of 16 candidates, totalling 160 fits\n"
          ],
          "name": "stdout"
        },
        {
          "output_type": "stream",
          "text": [
            "[Parallel(n_jobs=-1)]: Done 150 tasks      | elapsed:    0.6s\n",
            "[Parallel(n_jobs=-1)]: Done 160 out of 160 | elapsed:    0.7s finished\n",
            "[Parallel(n_jobs=-1)]: Using backend LokyBackend with 2 concurrent workers.\n"
          ],
          "name": "stderr"
        },
        {
          "output_type": "stream",
          "text": [
            "Fitting 10 folds for each of 16 candidates, totalling 160 fits\n"
          ],
          "name": "stdout"
        },
        {
          "output_type": "stream",
          "text": [
            "[Parallel(n_jobs=-1)]: Done 150 tasks      | elapsed:    0.6s\n",
            "[Parallel(n_jobs=-1)]: Done 160 out of 160 | elapsed:    0.7s finished\n",
            "[Parallel(n_jobs=-1)]: Using backend LokyBackend with 2 concurrent workers.\n"
          ],
          "name": "stderr"
        },
        {
          "output_type": "stream",
          "text": [
            "Fitting 10 folds for each of 16 candidates, totalling 160 fits\n"
          ],
          "name": "stdout"
        },
        {
          "output_type": "stream",
          "text": [
            "[Parallel(n_jobs=-1)]: Done 150 tasks      | elapsed:    0.6s\n",
            "[Parallel(n_jobs=-1)]: Done 160 out of 160 | elapsed:    0.7s finished\n",
            "[Parallel(n_jobs=-1)]: Using backend LokyBackend with 2 concurrent workers.\n"
          ],
          "name": "stderr"
        },
        {
          "output_type": "stream",
          "text": [
            "Fitting 10 folds for each of 16 candidates, totalling 160 fits\n"
          ],
          "name": "stdout"
        },
        {
          "output_type": "stream",
          "text": [
            "[Parallel(n_jobs=-1)]: Done 150 tasks      | elapsed:    0.6s\n",
            "[Parallel(n_jobs=-1)]: Done 160 out of 160 | elapsed:    0.7s finished\n",
            "[Parallel(n_jobs=-1)]: Using backend LokyBackend with 2 concurrent workers.\n"
          ],
          "name": "stderr"
        },
        {
          "output_type": "stream",
          "text": [
            "Fitting 10 folds for each of 16 candidates, totalling 160 fits\n"
          ],
          "name": "stdout"
        },
        {
          "output_type": "stream",
          "text": [
            "[Parallel(n_jobs=-1)]: Done 150 tasks      | elapsed:    0.6s\n",
            "[Parallel(n_jobs=-1)]: Done 160 out of 160 | elapsed:    0.7s finished\n",
            "[Parallel(n_jobs=-1)]: Using backend LokyBackend with 2 concurrent workers.\n"
          ],
          "name": "stderr"
        },
        {
          "output_type": "stream",
          "text": [
            "Fitting 10 folds for each of 16 candidates, totalling 160 fits\n"
          ],
          "name": "stdout"
        },
        {
          "output_type": "stream",
          "text": [
            "[Parallel(n_jobs=-1)]: Done 150 tasks      | elapsed:    0.6s\n",
            "[Parallel(n_jobs=-1)]: Done 160 out of 160 | elapsed:    0.7s finished\n",
            "[Parallel(n_jobs=-1)]: Using backend LokyBackend with 2 concurrent workers.\n"
          ],
          "name": "stderr"
        },
        {
          "output_type": "stream",
          "text": [
            "Fitting 10 folds for each of 16 candidates, totalling 160 fits\n"
          ],
          "name": "stdout"
        },
        {
          "output_type": "stream",
          "text": [
            "[Parallel(n_jobs=-1)]: Done 150 tasks      | elapsed:    0.6s\n",
            "[Parallel(n_jobs=-1)]: Done 160 out of 160 | elapsed:    0.7s finished\n",
            "[Parallel(n_jobs=-1)]: Using backend LokyBackend with 2 concurrent workers.\n"
          ],
          "name": "stderr"
        },
        {
          "output_type": "stream",
          "text": [
            "Fitting 10 folds for each of 16 candidates, totalling 160 fits\n"
          ],
          "name": "stdout"
        },
        {
          "output_type": "stream",
          "text": [
            "[Parallel(n_jobs=-1)]: Done 150 tasks      | elapsed:    0.6s\n",
            "[Parallel(n_jobs=-1)]: Done 160 out of 160 | elapsed:    0.7s finished\n",
            "[Parallel(n_jobs=-1)]: Using backend LokyBackend with 2 concurrent workers.\n"
          ],
          "name": "stderr"
        },
        {
          "output_type": "stream",
          "text": [
            "Fitting 10 folds for each of 16 candidates, totalling 160 fits\n",
            "Average Accuracy: \t 0.9555\n",
            "Accuracy SD: \t\t 0.0364\n",
            "\n",
            "*************************************************\n",
            "\n",
            "Test Result:\n",
            "\n",
            "accuracy score: 0.9726\n",
            "\n",
            "Classification Report: \n",
            "               precision    recall  f1-score   support\n",
            "\n",
            "         0.0       0.97      0.99      0.98       359\n",
            "         1.0       0.97      0.95      0.96       188\n",
            "\n",
            "    accuracy                           0.97       547\n",
            "   macro avg       0.97      0.97      0.97       547\n",
            "weighted avg       0.97      0.97      0.97       547\n",
            "\n",
            "\n",
            "Confusion Matrix: \n",
            " [[354   5]\n",
            " [ 10 178]]\n",
            "\n",
            "ROC AUC: 0.9664\n",
            "\n"
          ],
          "name": "stdout"
        },
        {
          "output_type": "stream",
          "text": [
            "[Parallel(n_jobs=-1)]: Done 150 tasks      | elapsed:    0.6s\n",
            "[Parallel(n_jobs=-1)]: Done 160 out of 160 | elapsed:    0.7s finished\n"
          ],
          "name": "stderr"
        }
      ]
    },
    {
      "cell_type": "code",
      "metadata": {
        "id": "-WcT1C_JNSZa",
        "colab_type": "code",
        "outputId": "02143dca-05e8-4f55-c358-c6bdc0408ccb",
        "colab": {
          "base_uri": "https://localhost:8080/",
          "height": 68
        }
      },
      "source": [
        "knn_best = knn_grid.best_estimator_\n",
        "knn_best"
      ],
      "execution_count": 35,
      "outputs": [
        {
          "output_type": "execute_result",
          "data": {
            "text/plain": [
              "KNeighborsClassifier(algorithm='auto', leaf_size=30, metric='minkowski',\n",
              "                     metric_params=None, n_jobs=None, n_neighbors=8, p=2,\n",
              "                     weights='uniform')"
            ]
          },
          "metadata": {
            "tags": []
          },
          "execution_count": 35
        }
      ]
    },
    {
      "cell_type": "markdown",
      "metadata": {
        "id": "LxGTe7aHNuHH",
        "colab_type": "text"
      },
      "source": [
        "#### Create an ensemble of SVM, Random Forest , XGBoost"
      ]
    },
    {
      "cell_type": "code",
      "metadata": {
        "id": "V9PMOGjrNmZv",
        "colab_type": "code",
        "outputId": "0ce956c2-ef8d-4716-c525-336e8cd04cb1",
        "colab": {
          "base_uri": "https://localhost:8080/",
          "height": 1000
        }
      },
      "source": [
        "from sklearn import svm\n",
        "svm_clf = svm.SVC(gamma='scale')\n",
        "svm_params = {'kernel':['linear','rbf']}\n",
        "svm_grid = GridSearchCV(svm_clf,svm_params,cv=10,verbose=1,n_jobs=-1,iid=True)\n",
        "svm_grid.fit(X_train,y_train)\n",
        "print_score(svm_grid, X_train, X_test, y_train, y_test, train=True)\n",
        "print('\\n**************************************\\n')\n",
        "print_score(svm_grid, X_train, X_test, y_train, y_test, train=False)\n"
      ],
      "execution_count": 36,
      "outputs": [
        {
          "output_type": "stream",
          "text": [
            "[Parallel(n_jobs=-1)]: Using backend LokyBackend with 2 concurrent workers.\n"
          ],
          "name": "stderr"
        },
        {
          "output_type": "stream",
          "text": [
            "Fitting 10 folds for each of 2 candidates, totalling 20 fits\n",
            "Train Result:\n",
            "\n",
            "accuracy score: 0.9632\n",
            "\n",
            "Classification Report: \n",
            "               precision    recall  f1-score   support\n",
            "\n",
            "         0.0       0.97      0.98      0.97        85\n",
            "         1.0       0.96      0.94      0.95        51\n",
            "\n",
            "    accuracy                           0.96       136\n",
            "   macro avg       0.96      0.96      0.96       136\n",
            "weighted avg       0.96      0.96      0.96       136\n",
            "\n",
            "\n",
            "Confusion Matrix: \n",
            " [[83  2]\n",
            " [ 3 48]]\n",
            "\n",
            "ROC AUC: 0.9588\n",
            "\n",
            "Fitting 10 folds for each of 2 candidates, totalling 20 fits\n"
          ],
          "name": "stdout"
        },
        {
          "output_type": "stream",
          "text": [
            "[Parallel(n_jobs=-1)]: Done  20 out of  20 | elapsed:    0.1s finished\n",
            "[Parallel(n_jobs=-1)]: Using backend LokyBackend with 2 concurrent workers.\n",
            "[Parallel(n_jobs=-1)]: Done  20 out of  20 | elapsed:    0.1s finished\n",
            "[Parallel(n_jobs=-1)]: Using backend LokyBackend with 2 concurrent workers.\n",
            "[Parallel(n_jobs=-1)]: Done  20 out of  20 | elapsed:    0.1s finished\n",
            "[Parallel(n_jobs=-1)]: Using backend LokyBackend with 2 concurrent workers.\n"
          ],
          "name": "stderr"
        },
        {
          "output_type": "stream",
          "text": [
            "Fitting 10 folds for each of 2 candidates, totalling 20 fits\n",
            "Fitting 10 folds for each of 2 candidates, totalling 20 fits\n"
          ],
          "name": "stdout"
        },
        {
          "output_type": "stream",
          "text": [
            "[Parallel(n_jobs=-1)]: Done  20 out of  20 | elapsed:    0.1s finished\n",
            "[Parallel(n_jobs=-1)]: Using backend LokyBackend with 2 concurrent workers.\n",
            "[Parallel(n_jobs=-1)]: Done  20 out of  20 | elapsed:    0.1s finished\n",
            "[Parallel(n_jobs=-1)]: Using backend LokyBackend with 2 concurrent workers.\n",
            "[Parallel(n_jobs=-1)]: Done  20 out of  20 | elapsed:    0.1s finished\n"
          ],
          "name": "stderr"
        },
        {
          "output_type": "stream",
          "text": [
            "Fitting 10 folds for each of 2 candidates, totalling 20 fits\n",
            "Fitting 10 folds for each of 2 candidates, totalling 20 fits\n",
            "Fitting 10 folds for each of 2 candidates, totalling 20 fits\n"
          ],
          "name": "stdout"
        },
        {
          "output_type": "stream",
          "text": [
            "[Parallel(n_jobs=-1)]: Using backend LokyBackend with 2 concurrent workers.\n",
            "[Parallel(n_jobs=-1)]: Done  20 out of  20 | elapsed:    0.1s finished\n",
            "[Parallel(n_jobs=-1)]: Using backend LokyBackend with 2 concurrent workers.\n",
            "[Parallel(n_jobs=-1)]: Done  17 out of  20 | elapsed:    0.1s remaining:    0.0s\n"
          ],
          "name": "stderr"
        },
        {
          "output_type": "stream",
          "text": [
            "Fitting 10 folds for each of 2 candidates, totalling 20 fits\n",
            "Fitting 10 folds for each of 2 candidates, totalling 20 fits\n"
          ],
          "name": "stdout"
        },
        {
          "output_type": "stream",
          "text": [
            "[Parallel(n_jobs=-1)]: Done  20 out of  20 | elapsed:    0.1s finished\n",
            "[Parallel(n_jobs=-1)]: Using backend LokyBackend with 2 concurrent workers.\n",
            "[Parallel(n_jobs=-1)]: Done  20 out of  20 | elapsed:    0.1s finished\n",
            "[Parallel(n_jobs=-1)]: Using backend LokyBackend with 2 concurrent workers.\n"
          ],
          "name": "stderr"
        },
        {
          "output_type": "stream",
          "text": [
            "Fitting 10 folds for each of 2 candidates, totalling 20 fits\n",
            "Fitting 10 folds for each of 2 candidates, totalling 20 fits\n"
          ],
          "name": "stdout"
        },
        {
          "output_type": "stream",
          "text": [
            "[Parallel(n_jobs=-1)]: Done  20 out of  20 | elapsed:    0.1s finished\n",
            "[Parallel(n_jobs=-1)]: Using backend LokyBackend with 2 concurrent workers.\n"
          ],
          "name": "stderr"
        },
        {
          "output_type": "stream",
          "text": [
            "Average Accuracy: \t 0.9555\n",
            "Accuracy SD: \t\t 0.0364\n",
            "\n",
            "**************************************\n",
            "\n",
            "Test Result:\n",
            "\n",
            "accuracy score: 0.9707\n",
            "\n",
            "Classification Report: \n",
            "               precision    recall  f1-score   support\n",
            "\n",
            "         0.0       0.98      0.97      0.98       359\n",
            "         1.0       0.95      0.96      0.96       188\n",
            "\n",
            "    accuracy                           0.97       547\n",
            "   macro avg       0.97      0.97      0.97       547\n",
            "weighted avg       0.97      0.97      0.97       547\n",
            "\n",
            "\n",
            "Confusion Matrix: \n",
            " [[350   9]\n",
            " [  7 181]]\n",
            "\n",
            "ROC AUC: 0.9688\n",
            "\n"
          ],
          "name": "stdout"
        },
        {
          "output_type": "stream",
          "text": [
            "[Parallel(n_jobs=-1)]: Done  20 out of  20 | elapsed:    0.1s finished\n"
          ],
          "name": "stderr"
        }
      ]
    },
    {
      "cell_type": "code",
      "metadata": {
        "id": "qHwwsvKmN4g_",
        "colab_type": "code",
        "colab": {}
      },
      "source": [
        "svm_best = svm_grid.best_estimator_"
      ],
      "execution_count": 0,
      "outputs": []
    },
    {
      "cell_type": "code",
      "metadata": {
        "id": "cpkBnk4qTnPu",
        "colab_type": "code",
        "outputId": "fe89e377-f927-4810-ddf6-2e264228f25a",
        "colab": {
          "base_uri": "https://localhost:8080/",
          "height": 1000
        }
      },
      "source": [
        "# Random Forest\n",
        "\n",
        "from sklearn.ensemble import RandomForestClassifier\n",
        "rf_clf = RandomForestClassifier(n_jobs=-1,random_state=42)\n",
        "rf_params = {'n_estimators':[50,100,150,200],\n",
        "             'criterion':['gini','entropy'],\n",
        "             'bootstrap':[True,False]}\n",
        "rf_grid = GridSearchCV(rf_clf,rf_params,cv=10,verbose=1,n_jobs=-1)\n",
        "rf_grid.fit(X_train,y_train)\n",
        "\n",
        "print_score(rf_grid, X_train, X_test, y_train, y_test, train=True)\n",
        "print('\\n**************************************\\n')\n",
        "print_score(rf_grid, X_train, X_test, y_train, y_test, train=False)"
      ],
      "execution_count": 38,
      "outputs": [
        {
          "output_type": "stream",
          "text": [
            "[Parallel(n_jobs=-1)]: Using backend LokyBackend with 2 concurrent workers.\n"
          ],
          "name": "stderr"
        },
        {
          "output_type": "stream",
          "text": [
            "Fitting 10 folds for each of 16 candidates, totalling 160 fits\n"
          ],
          "name": "stdout"
        },
        {
          "output_type": "stream",
          "text": [
            "[Parallel(n_jobs=-1)]: Done  46 tasks      | elapsed:    9.1s\n",
            "[Parallel(n_jobs=-1)]: Done 160 out of 160 | elapsed:   30.7s finished\n",
            "/usr/local/lib/python3.6/dist-packages/sklearn/model_selection/_search.py:814: DeprecationWarning: The default of the `iid` parameter will change from True to False in version 0.22 and will be removed in 0.24. This will change numeric results when test-set sizes are unequal.\n",
            "  DeprecationWarning)\n"
          ],
          "name": "stderr"
        },
        {
          "output_type": "stream",
          "text": [
            "Train Result:\n",
            "\n",
            "accuracy score: 1.0000\n",
            "\n",
            "Classification Report: \n",
            "               precision    recall  f1-score   support\n",
            "\n",
            "         0.0       1.00      1.00      1.00        85\n",
            "         1.0       1.00      1.00      1.00        51\n",
            "\n",
            "    accuracy                           1.00       136\n",
            "   macro avg       1.00      1.00      1.00       136\n",
            "weighted avg       1.00      1.00      1.00       136\n",
            "\n",
            "\n",
            "Confusion Matrix: \n",
            " [[85  0]\n",
            " [ 0 51]]\n",
            "\n",
            "ROC AUC: 1.0000\n",
            "\n",
            "Fitting 10 folds for each of 16 candidates, totalling 160 fits\n"
          ],
          "name": "stdout"
        },
        {
          "output_type": "stream",
          "text": [
            "[Parallel(n_jobs=-1)]: Using backend LokyBackend with 2 concurrent workers.\n",
            "[Parallel(n_jobs=-1)]: Done  46 tasks      | elapsed:    8.9s\n",
            "[Parallel(n_jobs=-1)]: Done 160 out of 160 | elapsed:   29.7s finished\n",
            "/usr/local/lib/python3.6/dist-packages/sklearn/model_selection/_search.py:814: DeprecationWarning: The default of the `iid` parameter will change from True to False in version 0.22 and will be removed in 0.24. This will change numeric results when test-set sizes are unequal.\n",
            "  DeprecationWarning)\n"
          ],
          "name": "stderr"
        },
        {
          "output_type": "stream",
          "text": [
            "Fitting 10 folds for each of 16 candidates, totalling 160 fits\n"
          ],
          "name": "stdout"
        },
        {
          "output_type": "stream",
          "text": [
            "[Parallel(n_jobs=-1)]: Using backend LokyBackend with 2 concurrent workers.\n",
            "[Parallel(n_jobs=-1)]: Done  46 tasks      | elapsed:    9.0s\n",
            "[Parallel(n_jobs=-1)]: Done 160 out of 160 | elapsed:   30.0s finished\n",
            "/usr/local/lib/python3.6/dist-packages/sklearn/model_selection/_search.py:814: DeprecationWarning: The default of the `iid` parameter will change from True to False in version 0.22 and will be removed in 0.24. This will change numeric results when test-set sizes are unequal.\n",
            "  DeprecationWarning)\n"
          ],
          "name": "stderr"
        },
        {
          "output_type": "stream",
          "text": [
            "Fitting 10 folds for each of 16 candidates, totalling 160 fits\n"
          ],
          "name": "stdout"
        },
        {
          "output_type": "stream",
          "text": [
            "[Parallel(n_jobs=-1)]: Using backend LokyBackend with 2 concurrent workers.\n",
            "[Parallel(n_jobs=-1)]: Done  46 tasks      | elapsed:    9.0s\n",
            "[Parallel(n_jobs=-1)]: Done 160 out of 160 | elapsed:   30.2s finished\n",
            "/usr/local/lib/python3.6/dist-packages/sklearn/model_selection/_search.py:814: DeprecationWarning: The default of the `iid` parameter will change from True to False in version 0.22 and will be removed in 0.24. This will change numeric results when test-set sizes are unequal.\n",
            "  DeprecationWarning)\n"
          ],
          "name": "stderr"
        },
        {
          "output_type": "stream",
          "text": [
            "Fitting 10 folds for each of 16 candidates, totalling 160 fits\n"
          ],
          "name": "stdout"
        },
        {
          "output_type": "stream",
          "text": [
            "[Parallel(n_jobs=-1)]: Using backend LokyBackend with 2 concurrent workers.\n",
            "[Parallel(n_jobs=-1)]: Done  46 tasks      | elapsed:    9.0s\n",
            "[Parallel(n_jobs=-1)]: Done 160 out of 160 | elapsed:   29.8s finished\n",
            "/usr/local/lib/python3.6/dist-packages/sklearn/model_selection/_search.py:814: DeprecationWarning: The default of the `iid` parameter will change from True to False in version 0.22 and will be removed in 0.24. This will change numeric results when test-set sizes are unequal.\n",
            "  DeprecationWarning)\n"
          ],
          "name": "stderr"
        },
        {
          "output_type": "stream",
          "text": [
            "Fitting 10 folds for each of 16 candidates, totalling 160 fits\n"
          ],
          "name": "stdout"
        },
        {
          "output_type": "stream",
          "text": [
            "[Parallel(n_jobs=-1)]: Using backend LokyBackend with 2 concurrent workers.\n",
            "[Parallel(n_jobs=-1)]: Done  46 tasks      | elapsed:    9.0s\n",
            "[Parallel(n_jobs=-1)]: Done 160 out of 160 | elapsed:   29.9s finished\n",
            "/usr/local/lib/python3.6/dist-packages/sklearn/model_selection/_search.py:814: DeprecationWarning: The default of the `iid` parameter will change from True to False in version 0.22 and will be removed in 0.24. This will change numeric results when test-set sizes are unequal.\n",
            "  DeprecationWarning)\n"
          ],
          "name": "stderr"
        },
        {
          "output_type": "stream",
          "text": [
            "Fitting 10 folds for each of 16 candidates, totalling 160 fits\n"
          ],
          "name": "stdout"
        },
        {
          "output_type": "stream",
          "text": [
            "[Parallel(n_jobs=-1)]: Using backend LokyBackend with 2 concurrent workers.\n",
            "[Parallel(n_jobs=-1)]: Done  46 tasks      | elapsed:    9.1s\n",
            "[Parallel(n_jobs=-1)]: Done 160 out of 160 | elapsed:   30.1s finished\n",
            "/usr/local/lib/python3.6/dist-packages/sklearn/model_selection/_search.py:814: DeprecationWarning: The default of the `iid` parameter will change from True to False in version 0.22 and will be removed in 0.24. This will change numeric results when test-set sizes are unequal.\n",
            "  DeprecationWarning)\n"
          ],
          "name": "stderr"
        },
        {
          "output_type": "stream",
          "text": [
            "Fitting 10 folds for each of 16 candidates, totalling 160 fits\n"
          ],
          "name": "stdout"
        },
        {
          "output_type": "stream",
          "text": [
            "[Parallel(n_jobs=-1)]: Using backend LokyBackend with 2 concurrent workers.\n",
            "[Parallel(n_jobs=-1)]: Done  46 tasks      | elapsed:    9.0s\n",
            "[Parallel(n_jobs=-1)]: Done 160 out of 160 | elapsed:   29.7s finished\n",
            "/usr/local/lib/python3.6/dist-packages/sklearn/model_selection/_search.py:814: DeprecationWarning: The default of the `iid` parameter will change from True to False in version 0.22 and will be removed in 0.24. This will change numeric results when test-set sizes are unequal.\n",
            "  DeprecationWarning)\n"
          ],
          "name": "stderr"
        },
        {
          "output_type": "stream",
          "text": [
            "Fitting 10 folds for each of 16 candidates, totalling 160 fits\n"
          ],
          "name": "stdout"
        },
        {
          "output_type": "stream",
          "text": [
            "[Parallel(n_jobs=-1)]: Using backend LokyBackend with 2 concurrent workers.\n",
            "[Parallel(n_jobs=-1)]: Done  46 tasks      | elapsed:    9.0s\n",
            "[Parallel(n_jobs=-1)]: Done 160 out of 160 | elapsed:   30.2s finished\n",
            "/usr/local/lib/python3.6/dist-packages/sklearn/model_selection/_search.py:814: DeprecationWarning: The default of the `iid` parameter will change from True to False in version 0.22 and will be removed in 0.24. This will change numeric results when test-set sizes are unequal.\n",
            "  DeprecationWarning)\n"
          ],
          "name": "stderr"
        },
        {
          "output_type": "stream",
          "text": [
            "Fitting 10 folds for each of 16 candidates, totalling 160 fits\n"
          ],
          "name": "stdout"
        },
        {
          "output_type": "stream",
          "text": [
            "[Parallel(n_jobs=-1)]: Using backend LokyBackend with 2 concurrent workers.\n",
            "[Parallel(n_jobs=-1)]: Done  46 tasks      | elapsed:    9.4s\n",
            "[Parallel(n_jobs=-1)]: Done 160 out of 160 | elapsed:   30.3s finished\n",
            "/usr/local/lib/python3.6/dist-packages/sklearn/model_selection/_search.py:814: DeprecationWarning: The default of the `iid` parameter will change from True to False in version 0.22 and will be removed in 0.24. This will change numeric results when test-set sizes are unequal.\n",
            "  DeprecationWarning)\n",
            "[Parallel(n_jobs=-1)]: Using backend LokyBackend with 2 concurrent workers.\n"
          ],
          "name": "stderr"
        },
        {
          "output_type": "stream",
          "text": [
            "Fitting 10 folds for each of 16 candidates, totalling 160 fits\n"
          ],
          "name": "stdout"
        },
        {
          "output_type": "stream",
          "text": [
            "[Parallel(n_jobs=-1)]: Done  46 tasks      | elapsed:    9.0s\n",
            "[Parallel(n_jobs=-1)]: Done 160 out of 160 | elapsed:   30.1s finished\n",
            "/usr/local/lib/python3.6/dist-packages/sklearn/model_selection/_search.py:814: DeprecationWarning: The default of the `iid` parameter will change from True to False in version 0.22 and will be removed in 0.24. This will change numeric results when test-set sizes are unequal.\n",
            "  DeprecationWarning)\n"
          ],
          "name": "stderr"
        },
        {
          "output_type": "stream",
          "text": [
            "Average Accuracy: \t 0.9555\n",
            "Accuracy SD: \t\t 0.0364\n",
            "\n",
            "**************************************\n",
            "\n",
            "Test Result:\n",
            "\n",
            "accuracy score: 0.9726\n",
            "\n",
            "Classification Report: \n",
            "               precision    recall  f1-score   support\n",
            "\n",
            "         0.0       0.99      0.97      0.98       359\n",
            "         1.0       0.94      0.98      0.96       188\n",
            "\n",
            "    accuracy                           0.97       547\n",
            "   macro avg       0.97      0.97      0.97       547\n",
            "weighted avg       0.97      0.97      0.97       547\n",
            "\n",
            "\n",
            "Confusion Matrix: \n",
            " [[348  11]\n",
            " [  4 184]]\n",
            "\n",
            "ROC AUC: 0.9740\n",
            "\n"
          ],
          "name": "stdout"
        }
      ]
    },
    {
      "cell_type": "code",
      "metadata": {
        "id": "_CFv7B3JVdeq",
        "colab_type": "code",
        "colab": {}
      },
      "source": [
        "rf_best = rf_grid.best_estimator_"
      ],
      "execution_count": 0,
      "outputs": []
    },
    {
      "cell_type": "markdown",
      "metadata": {
        "id": "4x-s1lvnaj0Z",
        "colab_type": "text"
      },
      "source": [
        "# Ensemble learners based on knn , rf, and svm"
      ]
    },
    {
      "cell_type": "code",
      "metadata": {
        "id": "oVMek2XXZlMv",
        "colab_type": "code",
        "outputId": "9955c6e7-8b6e-4123-ce2f-94e941d65d71",
        "colab": {
          "base_uri": "https://localhost:8080/",
          "height": 68
        }
      },
      "source": [
        "#test the three models with the test data and print their accuracy scores\n",
        "print('knn: {0:.4f}'.format(knn_best.score(X_test, y_test)))\n",
        "print('rf: {0:.4f}'.format(rf_best.score(X_test, y_test)))\n",
        "print('svm: {0:.4f}'.format(svm_best.score(X_test, y_test)))"
      ],
      "execution_count": 40,
      "outputs": [
        {
          "output_type": "stream",
          "text": [
            "knn: 0.9726\n",
            "rf: 0.9726\n",
            "svm: 0.9707\n"
          ],
          "name": "stdout"
        }
      ]
    },
    {
      "cell_type": "code",
      "metadata": {
        "id": "NecMAKRoXX0D",
        "colab_type": "code",
        "colab": {}
      },
      "source": [
        "from sklearn.ensemble import VotingClassifier\n",
        "#create a dictionary of our models\n",
        "estimators=[('knn', knn_best), ('rf', rf_best), ('svm', svm_best)]\n",
        "#create our voting classifier, inputting our models\n",
        "ensemble = VotingClassifier(estimators, voting='hard')"
      ],
      "execution_count": 0,
      "outputs": []
    },
    {
      "cell_type": "code",
      "metadata": {
        "id": "y8nJGBtcYzpv",
        "colab_type": "code",
        "outputId": "1f4c1442-264b-4266-b1aa-e4d99e327d8b",
        "colab": {
          "base_uri": "https://localhost:8080/",
          "height": 34
        }
      },
      "source": [
        "#fit model to training data\n",
        "ensemble.fit(X_train, y_train)\n",
        "#test our model on the test data\n",
        "ensemble.score(X_test, y_test)"
      ],
      "execution_count": 42,
      "outputs": [
        {
          "output_type": "execute_result",
          "data": {
            "text/plain": [
              "0.9762340036563071"
            ]
          },
          "metadata": {
            "tags": []
          },
          "execution_count": 42
        }
      ]
    }
  ]
}